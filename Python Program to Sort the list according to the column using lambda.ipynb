{
 "cells": [
  {
   "cell_type": "code",
   "execution_count": 39,
   "id": "900ce7de",
   "metadata": {},
   "outputs": [],
   "source": [
    "def sortarray(array):\n",
    "     \n",
    "    for i in range(len(array[0])):\n",
    "         \n",
    "        # sorting array in ascending\n",
    "        # order specific to column i,\n",
    "        # here i is the column index\n",
    "        sortedcolumn = sorted(array, key = lambda x:x[i])\n",
    "         \n",
    "        # After sorting array Column 1\n",
    "        print(\"Sorted array specific to column {}, \\\n",
    "        {}\".format(i, sortedcolumn))\n",
    "     # Driver code\n",
    "if __name__ == '__main__':\n",
    "     \n",
    "    # array of size 3 X 2\n",
    "    array = [['java', 1995], ['c++', 1983],\n",
    "             ['python', 1989]]\n",
    "     "
   ]
  },
  {
   "cell_type": "code",
   "execution_count": 40,
   "id": "58edef20",
   "metadata": {},
   "outputs": [
    {
     "name": "stdout",
     "output_type": "stream",
     "text": [
      "Sorted array specific to column 0,         [['c++', 1983], ['java', 1995], ['python', 1989]]\n",
      "Sorted array specific to column 1,         [['c++', 1983], ['python', 1989], ['java', 1995]]\n"
     ]
    }
   ],
   "source": [
    "sortarray(array)"
   ]
  },
  {
   "cell_type": "code",
   "execution_count": null,
   "id": "a74435d0",
   "metadata": {},
   "outputs": [],
   "source": []
  }
 ],
 "metadata": {
  "kernelspec": {
   "display_name": "Python 3 (ipykernel)",
   "language": "python",
   "name": "python3"
  },
  "language_info": {
   "codemirror_mode": {
    "name": "ipython",
    "version": 3
   },
   "file_extension": ".py",
   "mimetype": "text/x-python",
   "name": "python",
   "nbconvert_exporter": "python",
   "pygments_lexer": "ipython3",
   "version": "3.9.13"
  }
 },
 "nbformat": 4,
 "nbformat_minor": 5
}
